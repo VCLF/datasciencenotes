{
 "cells": [
  {
   "cell_type": "markdown",
   "metadata": {},
   "source": [
    "# Week 1 - Introduction"
   ]
  },
  {
   "cell_type": "markdown",
   "metadata": {},
   "source": [
    "Composto por 3 Modelos:\n",
    "- Modulo 1: melhores práticas e introdução ao Matplotlib (usando Pandas para manipular os dados);\n",
    "- Modulo 2: formas básicas de plots\n",
    "- Modulo 3: formas avançadas de plots e seaborn em mapas, letreiros, áreas."
   ]
  },
  {
   "cell_type": "markdown",
   "metadata": {},
   "source": [
    "A visualização deve ser Efetivo, atrativo e impactante!\n",
    "\n",
    "Serve para Explorar a análise de dados, comunicar os dados claramente, compartilhar a representação de dados sem vies, e suportar decisões estrategicas.\n",
    "\n",
    "Melhores Práticas: Menos é mais efetivo, menos é mais atrativo, menos é mais impactante.\n",
    "\n",
    "Para mais exemplos: www.darkhorseanalytics.com/"
   ]
  },
  {
   "cell_type": "markdown",
   "metadata": {},
   "source": [
    "# Matplotlib"
   ]
  },
  {
   "cell_type": "markdown",
   "metadata": {},
   "source": [
    "Criado para ser semelhante ao MATLAB. Tem uma arquitetura em três camadas:\n",
    "\n",
    "1) Backend Layer: Figure Canvas, Renderer, Event\n",
    "\n",
    "2) Artist Layer: know how to use Renderer, tilte lines , tick labels, imagens. Primitive: Lin2D , Rectangel, Circle and Text. Compositive: Axis, Axes, Figure, Tick;\n",
    "\n",
    "3) Scripting Layer: criado por desenvolvedores para criar análises rápidas. A maior parte está contida no pyplot."
   ]
  },
  {
   "cell_type": "markdown",
   "metadata": {},
   "source": [
    "# Plot Function"
   ]
  },
  {
   "cell_type": "markdown",
   "metadata": {},
   "source": [
    "Para usar o matlibplot existem comandos magic para configurar sua apresentação.\n",
    "\n",
    "% matplotlib inline: figura é gerada abaixo do comando, e para ser atualizada precisa ser rodada novamente.\n",
    "\n",
    "or \n",
    "\n",
    "% matplotlib notebook: figura é gerada abaixo do comando plot, e pode ser atualizada posteriormente sem a necessidade de rodar o comando plot novamente. Os comandos realizados abaixo da figura continuam atualizando o plot realizado no notebook.\n",
    "\n",
    "OBS: o Pandas também pode realizar plots por meio do método .plot(kind = \"line\"/\"hist\"/etc)"
   ]
  },
  {
   "cell_type": "markdown",
   "metadata": {},
   "source": []
  }
 ],
 "metadata": {
  "kernelspec": {
   "display_name": "Python 3",
   "language": "python",
   "name": "python3"
  },
  "language_info": {
   "codemirror_mode": {
    "name": "ipython",
    "version": 3
   },
   "file_extension": ".py",
   "mimetype": "text/x-python",
   "name": "python",
   "nbconvert_exporter": "python",
   "pygments_lexer": "ipython3",
   "version": "3.7.4"
  }
 },
 "nbformat": 4,
 "nbformat_minor": 2
}
