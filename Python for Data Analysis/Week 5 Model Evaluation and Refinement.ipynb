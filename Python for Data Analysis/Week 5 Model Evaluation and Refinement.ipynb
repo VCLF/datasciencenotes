{
 "cells": [
  {
   "cell_type": "markdown",
   "metadata": {},
   "source": [
    "# Week 5: Model Evaluation and Refinement"
   ]
  },
  {
   "cell_type": "markdown",
   "metadata": {},
   "source": [
    "- Separar o dado geral em uma parte para treino e outra para teste. Exemplo: 70:30.\n",
    "\n",
    "- Depois que o método é treinado e testado, com o método escolhido, todos os dados são usados para construir o melhor modelo escolhido.\n",
    "\n",
    "Function train_test_split()\n",
    "from sklearn.model_selection import train_test_split\n",
    "\n",
    "Um vez definido a proporção dos grupos, existem diversos casos para escolher os grupos de treinamento e teste. A tendência é que maiores grupos de treinamento melhorem o modelo, mas o deixem menos preciso, enquanto dados menores deixem menos acurado.\n",
    "\n",
    "Uma forma de lidar com esse problema é por meio da validação cruzada: cross-validation, que para uma determinada proporção testa diferentes combinações de grupos de teste e treino para trabalhar com a média de resultados."
   ]
  },
  {
   "cell_type": "markdown",
   "metadata": {},
   "source": []
  }
 ],
 "metadata": {
  "kernelspec": {
   "display_name": "Python 3",
   "language": "python",
   "name": "python3"
  },
  "language_info": {
   "codemirror_mode": {
    "name": "ipython",
    "version": 3
   },
   "file_extension": ".py",
   "mimetype": "text/x-python",
   "name": "python",
   "nbconvert_exporter": "python",
   "pygments_lexer": "ipython3",
   "version": "3.7.4"
  }
 },
 "nbformat": 4,
 "nbformat_minor": 2
}
