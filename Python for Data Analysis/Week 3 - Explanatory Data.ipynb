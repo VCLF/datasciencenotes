{
 "cells": [
  {
   "cell_type": "markdown",
   "metadata": {},
   "source": [
    "# Explanatory Data - Week 3"
   ]
  },
  {
   "cell_type": "markdown",
   "metadata": {},
   "source": [
    "EDA - Explanatory Data Analysis é usado para:\n",
    "- Summarize main characteristics;\n",
    "- Better understanding of Dataset;\n",
    "- Analyze relationship between variables;\n",
    "- Extract important variables\n",
    "\n",
    "Syllabus of week 3\n",
    "- Descriptive Statistics\n",
    "- GroupBy\n",
    "- ANOVA\n",
    "- Correlation\n",
    "- Advanced Correlation - Pearson and Heatmaps"
   ]
  },
  {
   "cell_type": "markdown",
   "metadata": {},
   "source": [
    "## Descriptive Statistics"
   ]
  },
  {
   "cell_type": "markdown",
   "metadata": {},
   "source": [
    "Serve para verificar as caracteristicas básicas dos dados. \n",
    "- Em pandas: df.describe() automaticamente fornece os parametros principais dos dados por coluna. Os NaN são pulados;\n",
    "- Para dados categoricos, df.value_counts() para fornecer informações sobre a frequência dos valores;\n",
    "- Box Plots são muito uteis para mostrar as carateristicas do dados: média, quartos outlies e extreme values, por meio do comando sns.boxplot(x = 'columns', y = 'columns', data = df);\n",
    "- Scatter Plot: verificar a importância de uma variável na saída: preditor (independente) (x) e target (dependente) variable (y), por meio do comando, x = df['price'], y = df['engine-size'] -> plt.scatter(x,y) plt.title(\"Title\"), plt.xlabel(), plt.ylabel()"
   ]
  },
  {
   "cell_type": "markdown",
   "metadata": {},
   "source": [
    "## GroupBy in Python"
   ]
  },
  {
   "cell_type": "markdown",
   "metadata": {},
   "source": [
    "Serve para buscar relações entre o target e as variáveis independentes. Em pandas, dataframe.GroupBy() é o comando, e pode ser usado para grupas de variáveis, variáveis categoricas, em single ou multiple variables.\n",
    "Ex.:\n",
    "df_test = df['drive-wheels','body-style','price']\n",
    "df_grp = df_test.groupby(['drive-wheels','body-style'], as_index = False).mean()\n",
    "df_grp\n"
   ]
  },
  {
   "cell_type": "markdown",
   "metadata": {},
   "source": [
    "Para apresentar a informações em linhas e colunas simultaneamente utiliza-se o método pivot(), tipo excel.\n",
    "Ex.:\n",
    "df_pivot = df_grp.pivot(index = 'drive-wheels', columns = 'body-style')"
   ]
  },
  {
   "cell_type": "markdown",
   "metadata": {},
   "source": [
    "Heatmap é usado para plotar o target com múltiplas variáveis independentes, para avaliar as relações entre as variaveis e o target. Observe que usa o pivot para criar o heatmap\n",
    "Ex.:\n",
    "plt.pcolor(df_pivot, cmap = 'RdBBu')\n",
    "plt.colorbar()\n",
    "plt.show()"
   ]
  },
  {
   "cell_type": "markdown",
   "metadata": {},
   "source": [
    "## Correlation"
   ]
  },
  {
   "cell_type": "markdown",
   "metadata": {},
   "source": [
    "É uma medida estatística para verificar a dependencia entre duas variáveis [-1, 1].\n",
    "Correlação não implica causa-efeito.\n",
    "Ex.:\n",
    "sns.regplot(x = 'engin-size', y = 'prices', data = df)\n",
    "plt.ylim(0,)"
   ]
  },
  {
   "cell_type": "markdown",
   "metadata": {},
   "source": [
    "### Pearson Correlation"
   ]
  },
  {
   "cell_type": "markdown",
   "metadata": {},
   "source": [
    "Correlation coefficient and p-value\n",
    "- Valores perto de +1 e -1 indicam correlações fortes, enquanto valores próximos de zero implicam correlações fracas.\n",
    "- Valores de p menores que 0.001 indicam uma forte certeza do resultados, valores menores que 0.05 indicam uma certeza moderada, menores do 0.1 indicam uma certeza fraca, enquanto maiores que 0.1 indicam nenhuma certeza sobre o resultado.\n",
    "A correlação é entendida como forte, quando os valores são proximos de modulo 1 e o p valor menor que 0.001.\n",
    "Ex.:\n",
    "Person_coef,p_value = stats.personr[['horsepower',df['price']]\n",
    "Person_coef = 0.81\n",
    "p_value = 9.45 e-48\n",
    "Considera-se um exemplo de forte correlação positiva.\n",
    "\n",
    "Após a realização do Pearson com todas as variáveis entre todas as variáveis é possível criar um heatmap para apresentar a correlação entre as variáveis, a matriz de correlação."
   ]
  },
  {
   "cell_type": "markdown",
   "metadata": {},
   "source": [
    "### Analysis of Variance (ANOVA)"
   ]
  },
  {
   "cell_type": "markdown",
   "metadata": {},
   "source": [
    "Comparação estatística entre grupos de uma varíavel para verificar a influência da variável no target, pricipalmente para verificar o impacto comparativo entre níveis de tratamento ou entre outras variáveis.\n",
    "\n",
    "Os resultados da ANOVA são o F-score e o P-value. Valores altos de F-score e P_value baixos indicam forte correlação. A ANOVA pode ser usada para comparar níveis de uma variável.\n",
    "\n",
    "Ex.: df_anova = df[[\"make\",\"price\"]]\n",
    "grouped_anova = df_anova,groupby([\"make\"])\n",
    "\n",
    "anova_results_l = stats.f_oneway(grouped_anova.get_group(\"honda\")[\"price\"],grouped_nova.get_group(\"subaru\")[\"price\"])\n",
    "\n",
    "O método f_oneway é da Libray Scikit-learn"
   ]
  },
  {
   "cell_type": "code",
   "execution_count": null,
   "metadata": {},
   "outputs": [],
   "source": []
  }
 ],
 "metadata": {
  "kernelspec": {
   "display_name": "Python 3",
   "language": "python",
   "name": "python3"
  },
  "language_info": {
   "codemirror_mode": {
    "name": "ipython",
    "version": 3
   },
   "file_extension": ".py",
   "mimetype": "text/x-python",
   "name": "python",
   "nbconvert_exporter": "python",
   "pygments_lexer": "ipython3",
   "version": "3.7.4"
  }
 },
 "nbformat": 4,
 "nbformat_minor": 2
}
