{
 "cells": [
  {
   "cell_type": "markdown",
   "metadata": {},
   "source": [
    "# Week 4 - Model Development"
   ]
  },
  {
   "cell_type": "markdown",
   "metadata": {},
   "source": [
    "- Simple e Multiple Linear Regression\n",
    "- Model Evaluation using Visualization\n",
    "- Polynomial Regression and Pipelines\n",
    "\n",
    "- R-squared and MSE for In-Sample Evaluation\n",
    "- Prediction and Decision Making\n"
   ]
  },
  {
   "cell_type": "markdown",
   "metadata": {},
   "source": [
    "O modelo é uma equação matemática para descrever a influencia de variavies em um target.\n",
    "\n",
    "Quanto mais dado relevante, mais acurado é o modelo."
   ]
  },
  {
   "cell_type": "markdown",
   "metadata": {},
   "source": [
    "## Linear and Multiple Regression"
   ]
  },
  {
   "cell_type": "markdown",
   "metadata": {},
   "source": [
    "Simple é apenas uma variavel.\n",
    "\n",
    "y = b0 + b1*x\n",
    "\n",
    "O b0 é chamado de intercept, enquanto que o b1 é o slope.\n",
    "\n",
    "O comando utilizado para isso é o fit (training para estimar as constantes) e predict (equação com as constantes preditas).\n",
    "\n",
    "from sklearn.linear_model import LinearRegression\n",
    "lm = LinearRegression()\n",
    "\n",
    "x = df[\"highway-mpg\"]\n",
    "\n",
    "y = df[\"price\"]\n",
    "\n",
    "lm.fit(x,y)\n",
    "\n",
    "Yhat = lm.predict(x)\n",
    "\n",
    "b0: lm.intercept_\n",
    "\n",
    "b1: lm.coef_\n",
    "\n",
    "No caso de mútiplas variáveis:\n",
    "\n",
    "lm.fit(z,df[\"price\"]\n",
    "\n",
    "Yhat = lm.predict(Z)\n",
    "\n",
    "b0 = lm.intercept_\n",
    "\n",
    "b1 = lm.coef_\n"
   ]
  },
  {
   "cell_type": "markdown",
   "metadata": {},
   "source": [
    "## Model Evaluation using Visualization"
   ]
  },
  {
   "cell_type": "markdown",
   "metadata": {},
   "source": [
    "Relação entre variáveis, correlação e força da correlação.\n",
    "import seaborn as sns\n",
    "sns.regplot(x = , y=, data = df)\n",
    "Visualização dos residuos:\n",
    "- Esperado média zero\n",
    "- distribuição uniforme dos residuos (aleatoriedade)\n",
    "- Variância constante.\n",
    "\n",
    "sns.residplot(df[variavel dependente],df[target])\n",
    "\n",
    "Um método é verificar a distribuição entre o target e a a função prevista:\n",
    "\n",
    "import seaborn as sns\n",
    "ax1 = sns.distplot(df[\"price\"],hist = False, color = 'r', label = \"Actual Value\")\n",
    "sns.distplot(Yhat, hist = False, label = \"Fitted Value\", ax = ax1)"
   ]
  },
  {
   "cell_type": "markdown",
   "metadata": {},
   "source": [
    "## Polynomial Regression and Pipelines"
   ]
  },
  {
   "cell_type": "markdown",
   "metadata": {},
   "source": [
    "Usado quando o modelo linear é inedequado. Pipelines é apenas uma forma de simplificar o código.\n",
    "f = no.polyfit(x,y,3)\n",
    "p = np.polyfit(f)\n",
    "print(p)\n",
    "\n",
    "O Numpy não é capaz de calcular o polinomio para multiplas variaveis. Para isso é necessário utilizar o scikit-learn:\n",
    "\n",
    "from sklearn.preprocessing import PolynomialFeatures\n",
    "\n",
    "pr = PolynomialFeatures(degree = 2)\n",
    "\n",
    "x_polly = pr.fit_transform(x[[\"horsepower\",\"curb-weight\"]],include_bias = False)\n",
    "\n",
    "x_polly é um dataset de todas as combinações possíveis entre as varíaveis, de ordem 1, ordem 2 e conjunta.\n",
    "\n",
    "Em diversos casos antes de realizar o ajuste polinomial, é interessante realizar a normalização das variaveis dependentes por meio de uma classe chamada SCALE, a ser importantada do scikit-learn.\n",
    "\n",
    "O método Pipeline consiste em integrar o processo de normalização e ajuste polinomial em uma única etapa, restando apenas a predição dos estimadores (linear regression).\n",
    "\n"
   ]
  },
  {
   "cell_type": "markdown",
   "metadata": {},
   "source": [
    "## Measures for In-Sample Evaluation"
   ]
  },
  {
   "cell_type": "markdown",
   "metadata": {},
   "source": [
    "É forma de avaliar numericamente a qualidade do fit. MSE e R_square.\n",
    "\n",
    "from sklearn.metrics import mean_square_error\n",
    "\n",
    "mean_squared_error(df[\"price\"],Y_predict_simple_fit)\n",
    "\n",
    "O R_square é a comparação percentual entre o MSE da regressão linear e o MSE da média de valores do target. Portanto, o R_square é o cálculo da redução percentual do MSE em comparação ao modelo média de saídas.\n",
    "\n",
    "lm.fit(x,y)\n",
    "lm.score(x,y)\n",
    "\n"
   ]
  },
  {
   "cell_type": "markdown",
   "metadata": {},
   "source": [
    "## Prediction and Decision Making"
   ]
  },
  {
   "cell_type": "markdown",
   "metadata": {},
   "source": [
    "O modelo final é bom apenas após avaliado os seguintes critérios:\n",
    "- Coerência lógica entre os valores preditos\n",
    "- Visualmente coerentes\n",
    "- As métricas numéricas estão adequadas\n",
    "- O modelo final foi comparado com outros modelos"
   ]
  }
 ],
 "metadata": {
  "kernelspec": {
   "display_name": "Python 3",
   "language": "python",
   "name": "python3"
  },
  "language_info": {
   "codemirror_mode": {
    "name": "ipython",
    "version": 3
   },
   "file_extension": ".py",
   "mimetype": "text/x-python",
   "name": "python",
   "nbconvert_exporter": "python",
   "pygments_lexer": "ipython3",
   "version": "3.7.4"
  }
 },
 "nbformat": 4,
 "nbformat_minor": 2
}
